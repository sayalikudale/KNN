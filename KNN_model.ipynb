{
 "cells": [
  {
   "cell_type": "code",
   "execution_count": 1,
   "metadata": {
    "collapsed": true
   },
   "outputs": [],
   "source": [
    "#Author : Sayali Kudale\n",
    "import pandas as pd \n",
    "import matplotlib.pyplot as plt \n",
    "import numpy as np\n",
    "import scipy.io\n",
    "import time\n",
    "import seaborn as sns \n",
    "from sklearn.preprocessing import StandardScaler \n",
    "from sklearn.neighbors import KNeighborsClassifier \n",
    "import warnings\n",
    "from sklearn.metrics import classification_report, confusion_matrix \n"
   ]
  },
  {
   "cell_type": "code",
   "execution_count": 2,
   "metadata": {
    "collapsed": true
   },
   "outputs": [],
   "source": [
    "warnings.simplefilter(action='ignore')\n",
    "\n",
    "mat = scipy.io.loadmat('Data/USPS_all.mat')\n",
    "df_features = pd.DataFrame(mat['fea'])\n",
    "df_gnd = pd.DataFrame(mat['gnd'])"
   ]
  },
  {
   "cell_type": "code",
   "execution_count": 3,
   "metadata": {
    "collapsed": true
   },
   "outputs": [],
   "source": [
    "train_features= df_features.iloc[:7291] \n",
    "test_features= df_features.iloc[-2007:]\n",
    "train_decisions= df_gnd.iloc[:7291] \n",
    "test_decisions= df_gnd.iloc[-2007:] "
   ]
  },
  {
   "cell_type": "code",
   "execution_count": 4,
   "metadata": {
    "collapsed": false
   },
   "outputs": [],
   "source": [
    "sc_X = StandardScaler()\n",
    "train_features = sc_X.fit_transform(train_features)\n",
    "test_features = sc_X.transform(test_features)"
   ]
  },
  {
   "cell_type": "code",
   "execution_count": 5,
   "metadata": {
    "collapsed": false
   },
   "outputs": [
    {
     "name": "stdout",
     "output_type": "stream",
     "text": [
      "Training time :  0.21584796905517578\n"
     ]
    }
   ],
   "source": [
    "knn = KNeighborsClassifier(n_neighbors = 1) \n",
    "\n",
    "trainStart = time.time()\n",
    "knn.fit(train_features, train_decisions) \n",
    "\n",
    "trainEnd = time.time()\n",
    "\n",
    "print(\"Training time : \", trainEnd-trainStart)\n"
   ]
  },
  {
   "cell_type": "code",
   "execution_count": 6,
   "metadata": {
    "collapsed": true
   },
   "outputs": [],
   "source": [
    "pred = knn.predict(test_features) "
   ]
  },
  {
   "cell_type": "code",
   "execution_count": 7,
   "metadata": {
    "collapsed": false
   },
   "outputs": [
    {
     "name": "stdout",
     "output_type": "stream",
     "text": [
      "confusion matrix : \n",
      " [[355   0   2   0   0   0   0   1   0   1]\n",
      " [  0 254   2   0   5   0   2   1   0   0]\n",
      " [  6   0 182   2   1   1   1   1   4   0]\n",
      " [  1   0   2 149   0   8   0   2   2   2]\n",
      " [  0   1   2   0 184   1   2   2   0   8]\n",
      " [  5   0   1   7   0 139   0   1   5   2]\n",
      " [  1   0   3   0   1   2 163   0   0   0]\n",
      " [  0   0   1   0   4   0   0 140   0   2]\n",
      " [  4   0   1   5   0   1   0   0 153   2]\n",
      " [  1   0   0   0   2   0   0   5   0 169]]\n",
      "Classification report : \n",
      "              precision    recall  f1-score   support\n",
      "\n",
      "          1       0.95      0.99      0.97       359\n",
      "          2       1.00      0.96      0.98       264\n",
      "          3       0.93      0.92      0.92       198\n",
      "          4       0.91      0.90      0.91       166\n",
      "          5       0.93      0.92      0.93       200\n",
      "          6       0.91      0.87      0.89       160\n",
      "          7       0.97      0.96      0.96       170\n",
      "          8       0.92      0.95      0.93       147\n",
      "          9       0.93      0.92      0.93       166\n",
      "         10       0.91      0.95      0.93       177\n",
      "\n",
      "avg / total       0.94      0.94      0.94      2007\n",
      "\n"
     ]
    }
   ],
   "source": [
    "confusionMatrix=confusion_matrix(test_decisions, pred)\n",
    "print('confusion matrix : \\n',confusionMatrix)\n",
    "\n",
    "\n",
    "cr=classification_report(test_decisions,pred)\n",
    "print('Classification report : \\n',cr)"
   ]
  }
 ],
 "metadata": {
  "anaconda-cloud": {},
  "kernelspec": {
   "display_name": "Python [default]",
   "language": "python",
   "name": "python3"
  },
  "language_info": {
   "codemirror_mode": {
    "name": "ipython",
    "version": 3
   },
   "file_extension": ".py",
   "mimetype": "text/x-python",
   "name": "python",
   "nbconvert_exporter": "python",
   "pygments_lexer": "ipython3",
   "version": "3.5.2"
  }
 },
 "nbformat": 4,
 "nbformat_minor": 1
}
