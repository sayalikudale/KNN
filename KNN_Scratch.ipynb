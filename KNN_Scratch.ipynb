{
 "cells": [
  {
   "cell_type": "markdown",
   "metadata": {},
   "source": [
    "## K- Nearest Neighbors (KNN) Algorithm from scratch\n",
    "### Author: Sayali Kudale"
   ]
  },
  {
   "cell_type": "code",
   "execution_count": 20,
   "metadata": {
    "collapsed": true
   },
   "outputs": [],
   "source": [
    "\n",
    "# Importing the required libraries\n",
    "import pandas as pd \n",
    "import numpy as np\n",
    "import scipy.io\n",
    "from math import sqrt\n",
    "import time \n",
    "from sklearn.metrics import accuracy_score, classification_report "
   ]
  },
  {
   "cell_type": "code",
   "execution_count": 21,
   "metadata": {
    "collapsed": true
   },
   "outputs": [],
   "source": [
    "#Data loading\n",
    "mat = scipy.io.loadmat('Data/USPS_all.mat')\n",
    "\n",
    "# Data splitting into training and testing\n",
    "\n",
    "train_X=mat['fea'][:7291]\n",
    "test_X=mat['fea'][-2007:]\n",
    "train_Y=mat['gnd'][:7291]\n",
    "test_Y=mat['gnd'][-2007:]\n"
   ]
  },
  {
   "cell_type": "markdown",
   "metadata": {},
   "source": [
    "## Simple KNN algorithm"
   ]
  },
  {
   "cell_type": "code",
   "execution_count": 13,
   "metadata": {
    "collapsed": true
   },
   "outputs": [],
   "source": [
    "# Euclidian distance calculation function\n",
    "# This method computes the euclidian distance between test row and train row \n",
    "\n",
    "def euclidean_distance(row1, row2):\n",
    "    distance = 0.0\n",
    "    for i in range(len(row1)-1):\n",
    "        distance += (row1[i] - row2[i])**2\n",
    "    return sqrt(distance)"
   ]
  },
  {
   "cell_type": "code",
   "execution_count": 22,
   "metadata": {
    "collapsed": true
   },
   "outputs": [],
   "source": [
    "# Locate the most similar neighbors\n",
    "# This method finds the distance test data point  from  each point in train data\n",
    "#          using euclidian distance formula\n",
    "# Distances are sorted in ascending order \n",
    "# The top K closest train features data points from test row are returned \n",
    "# Input param : \n",
    "# train_X - training feature data \n",
    "# test_row - test data row\n",
    "# num_neighbors - number of neighbours \n",
    "\n",
    "def get_neighbors(train_X, test_row, num_neighbors):\n",
    "    distances = list()\n",
    "    \n",
    "    for idx,train_row in enumerate(train_X):\n",
    "        dist = euclidean_distance(test_row, train_row)\n",
    "        distances.append((idx, dist))\n",
    "        \n",
    "    distances.sort(key=lambda tup: tup[1])\n",
    "    \n",
    "    neighbors = list()\n",
    "    \n",
    "    for i in range(num_neighbors):\n",
    "        neighbors.append(distances[i][0])\n",
    "    return neighbors"
   ]
  },
  {
   "cell_type": "code",
   "execution_count": 23,
   "metadata": {
    "collapsed": true
   },
   "outputs": [],
   "source": [
    "\n",
    "# Make a classification prediction with neighbors\n",
    "# This method gets the top K closest feature dataset from test data row\n",
    "# Gets the corrosponding lables of feature set \n",
    "# returns the label which has maximum occurance\n",
    "# Input param : \n",
    "# train_X - training feature data \n",
    "# train_dec - training label data\n",
    "# test_row - test data row\n",
    "# num_neighbors - number of neighbours \n",
    "\n",
    "def predict_classification(train_X,train_dec, test_row, num_neighbors):\n",
    "    neighbors = get_neighbors(train_X, test_row, num_neighbors)\n",
    "    output_values=list()\n",
    "    for val in neighbors:\n",
    "        output_values.append(train_dec.iloc[val].values[0])\n",
    "    prediction = max(set(output_values), key=output_values.count)\n",
    "    return prediction"
   ]
  },
  {
   "cell_type": "code",
   "execution_count": 24,
   "metadata": {
    "collapsed": true
   },
   "outputs": [],
   "source": [
    "# This method performs k-nearest neighbour algorithm \n",
    "# Iterate through allthe test data set and pass it to the predict_classification method\n",
    "# It gets the list of predicted values for all the test data set\n",
    "# Input param : \n",
    "# train_X - training feature data \n",
    "# train_dec - training label data\n",
    "# test_X- test data set\n",
    "# num_neighbors - number of neighbours \n",
    "\n",
    "def k_nearest_neighbors(train_X,train_dec, test_X, num_neighbors):\n",
    "    predictions = list()\n",
    "    for row in test_X:\n",
    "        output = predict_classification(train_X,train_dec, row, num_neighbors)\n",
    "        predictions.append(output)\n",
    "    return(predictions)"
   ]
  },
  {
   "cell_type": "code",
   "execution_count": 25,
   "metadata": {
    "collapsed": true
   },
   "outputs": [],
   "source": [
    "# This method Calculate accuracy percentage\n",
    "# By comparing the correct values with the predicted values and then calculating the percentage \n",
    "# Input param : \n",
    "# actual : actual labels of testdata\n",
    "# predicted : predicted labels of test data\n",
    "def accuracy_metric(actual, predicted):\n",
    "    correct = 0\n",
    "    for i in range(len(actual)):\n",
    "        if actual[i] == predicted[i]:\n",
    "            correct += 1\n",
    "    return correct / float(len(actual)) * 100.0"
   ]
  },
  {
   "cell_type": "code",
   "execution_count": 41,
   "metadata": {
    "collapsed": false
   },
   "outputs": [
    {
     "name": "stdout",
     "output_type": "stream",
     "text": [
      "Training time :  2487.6575088500977\n",
      "Accuracy when k=3 : 94.76831091180867\n",
      "Classification report : \n",
      "              precision    recall  f1-score   support\n",
      "\n",
      "          1       0.95      0.99      0.97       359\n",
      "          2       0.99      0.97      0.98       264\n",
      "          3       0.95      0.92      0.94       198\n",
      "          4       0.97      0.92      0.94       166\n",
      "          5       0.94      0.90      0.92       200\n",
      "          6       0.92      0.91      0.92       160\n",
      "          7       0.98      0.95      0.96       170\n",
      "          8       0.96      0.95      0.96       147\n",
      "          9       0.93      0.94      0.93       166\n",
      "         10       0.88      0.98      0.93       177\n",
      "\n",
      "avg / total       0.95      0.95      0.95      2007\n",
      "\n"
     ]
    }
   ],
   "source": [
    "# Call  to the k_nearest_neighbors\n",
    "# value of k =3 \n",
    "trainStart = time.time()\n",
    "\n",
    "predictedKnn_3 = k_nearest_neighbors(train_X,pd.DataFrame(train_Y), test_X, 3)\n",
    "\n",
    "trainEnd = time.time()\n",
    "\n",
    "print(\"Training time : \", trainEnd-trainStart)\n",
    "\n",
    "accuracy = accuracy_metric(test_Y, predictedKnn_3)\n",
    "\n",
    "print('Accuracy when k=3 : %s' % accuracy)\n",
    "\n",
    "classsification_report=classification_report(pd.DataFrame(test_Y), predictedKnn_3)\n",
    "\n",
    "print('Classification report : \\n',classsification_report)"
   ]
  },
  {
   "cell_type": "code",
   "execution_count": 58,
   "metadata": {
    "collapsed": false
   },
   "outputs": [
    {
     "name": "stdout",
     "output_type": "stream",
     "text": [
      "Confusion Matrix for k=3 \n",
      " [[355   0   2   0   0   0   0   1   0   1]\n",
      " [  0 256   0   0   4   0   2   1   1   0]\n",
      " [  6   0 183   1   0   1   0   2   5   0]\n",
      " [  2   0   1 152   0   8   0   1   1   1]\n",
      " [  0   2   2   0 179   0   2   1   1  13]\n",
      " [  3   0   1   3   0 146   0   0   3   4]\n",
      " [  3   0   3   0   1   1 162   0   0   0]\n",
      " [  0   0   1   0   5   0   0 140   0   1]\n",
      " [  3   0   0   1   0   2   0   0 156   4]\n",
      " [  1   0   0   0   2   0   0   0   1 173]]\n"
     ]
    }
   ],
   "source": [
    "from sklearn.metrics import confusion_matrix  \n",
    "cm_k3= confusion_matrix(test_Y, predictedKnn_3)  \n",
    "print(\"Confusion Matrix for k=3 \\n\",cm_k3)"
   ]
  },
  {
   "cell_type": "code",
   "execution_count": 42,
   "metadata": {
    "collapsed": false
   },
   "outputs": [],
   "source": [
    "\n",
    "# creating dataframe to compare the actual vs the predicted values \n",
    "df_actual_vs_pre=pd.DataFrame(test_Y)\n",
    "df_actual_vs_pre[\"predicted_K3\"]=np.array(predictedKnn_3)"
   ]
  },
  {
   "cell_type": "code",
   "execution_count": null,
   "metadata": {
    "collapsed": false
   },
   "outputs": [
    {
     "name": "stdout",
     "output_type": "stream",
     "text": [
      "Training time :  5917.385703086853\n",
      "Accuracy when k=5 : 94.86796213253612\n",
      "Classification report : \n",
      "              precision    recall  f1-score   support\n",
      "\n",
      "          1       0.96      0.99      0.98       359\n",
      "          2       0.99      0.98      0.99       264\n",
      "          3       0.94      0.92      0.93       198\n",
      "          4       0.96      0.90      0.93       166\n",
      "          5       0.92      0.90      0.91       200\n",
      "          6       0.94      0.90      0.92       160\n",
      "          7       0.97      0.96      0.96       170\n",
      "          8       0.96      0.96      0.96       147\n",
      "          9       0.94      0.95      0.94       166\n",
      "         10       0.89      0.98      0.93       177\n",
      "\n",
      "avg / total       0.95      0.95      0.95      2007\n",
      "\n"
     ]
    }
   ],
   "source": [
    "# Call  to the k_nearest_neighbors\n",
    "# value of k =5 \n",
    "trainStart = time.time()\n",
    "\n",
    "predictedKnn_5 = k_nearest_neighbors(train_X,pd.DataFrame(train_Y), test_X, 5)\n",
    "\n",
    "trainEnd = time.time()\n",
    "\n",
    "print(\"Training time : \", trainEnd-trainStart)\n",
    "df_actual_vs_pre[\"predicted_K5\"]=np.array(predictedKnn_5)\n",
    "\n",
    "\n",
    "accuracy = accuracy_metric(test_Y, predictedKnn_5)\n",
    "print('Accuracy when k=5 : %s' % accuracy)\n",
    "\n",
    "classsification_report=classification_report(pd.DataFrame(test_Y), predictedKnn_5)\n",
    "\n",
    "print('Classification report : \\n',classsification_report)"
   ]
  },
  {
   "cell_type": "code",
   "execution_count": 59,
   "metadata": {
    "collapsed": false
   },
   "outputs": [
    {
     "name": "stdout",
     "output_type": "stream",
     "text": [
      "Confusion Matrix for k=5 \n",
      " [[355   0   2   0   1   0   0   0   0   1]\n",
      " [  0 259   0   0   3   0   2   0   0   0]\n",
      " [  6   0 183   1   2   0   1   2   3   0]\n",
      " [  1   0   1 150   0   8   0   2   1   3]\n",
      " [  0   2   3   0 179   0   2   2   1  11]\n",
      " [  3   0   2   4   0 144   0   0   3   4]\n",
      " [  1   0   3   0   2   0 163   0   1   0]\n",
      " [  0   0   1   0   5   0   0 141   0   0]\n",
      " [  2   0   0   2   0   2   0   0 157   3]\n",
      " [  1   0   0   0   2   0   0   0   1 173]]\n"
     ]
    }
   ],
   "source": [
    "cm_k5= confusion_matrix(test_Y, predictedKnn_5)  \n",
    "print(\"Confusion Matrix for k=5 \\n\",cm_k5)"
   ]
  },
  {
   "cell_type": "code",
   "execution_count": null,
   "metadata": {
    "collapsed": true
   },
   "outputs": [],
   "source": [
    "df_actual_vs_pre[\"predictedKnn_5\"]=np.array(predictedKnn_5)"
   ]
  },
  {
   "cell_type": "code",
   "execution_count": null,
   "metadata": {
    "collapsed": false
   },
   "outputs": [
    {
     "name": "stdout",
     "output_type": "stream",
     "text": [
      "Training time :  2766.9445700645447\n",
      "Accuracy when k=1 : 95.01743896362731\n",
      "Classification report : \n",
      "              precision    recall  f1-score   support\n",
      "\n",
      "          1       0.96      0.99      0.97       359\n",
      "          2       1.00      0.97      0.98       264\n",
      "          3       0.95      0.94      0.94       198\n",
      "          4       0.93      0.90      0.92       166\n",
      "          5       0.94      0.92      0.93       200\n",
      "          6       0.92      0.92      0.92       160\n",
      "          7       0.97      0.98      0.97       170\n",
      "          8       0.94      0.95      0.95       147\n",
      "          9       0.94      0.91      0.93       166\n",
      "         10       0.91      0.97      0.94       177\n",
      "\n",
      "avg / total       0.95      0.95      0.95      2007\n",
      "\n"
     ]
    }
   ],
   "source": [
    "# Call  to the k_nearest_neighbors\n",
    "# value of k = 1\n",
    "trainStart = time.time()\n",
    "\n",
    "predictedKnn_1 = k_nearest_neighbors(train_X,pd.DataFrame(train_Y), test_X, 1)\n",
    "\n",
    "trainEnd = time.time()\n",
    "\n",
    "\n",
    "print(\"Training time : \", trainEnd-trainStart)\n",
    "df_actual_vs_pre[\"predicted_K1\"]=np.array(predictedKnn_1)\n",
    "\n",
    "\n",
    "accuracy = accuracy_metric(test_Y, predictedKnn_1)\n",
    "print('Accuracy when k=1 : %s' % accuracy)\n",
    "\n",
    "classsification_report=classification_report(pd.DataFrame(test_Y), predictedKnn_1)\n",
    "\n",
    "\n",
    "print('Classification report : \\n',classsification_report)"
   ]
  },
  {
   "cell_type": "code",
   "execution_count": 60,
   "metadata": {
    "collapsed": false,
    "scrolled": true
   },
   "outputs": [
    {
     "name": "stdout",
     "output_type": "stream",
     "text": [
      "Confusion Matrix for k=1 \n",
      " [[354   0   2   0   0   0   1   1   0   1]\n",
      " [  0 257   0   0   4   0   2   1   0   0]\n",
      " [  5   0 186   1   1   1   0   2   2   0]\n",
      " [  2   0   1 150   0   9   0   1   1   2]\n",
      " [  0   1   1   0 184   1   2   2   1   8]\n",
      " [  2   0   2   4   0 147   0   0   3   2]\n",
      " [  0   0   2   0   1   1 166   0   0   0]\n",
      " [  0   0   1   1   3   0   0 140   1   1]\n",
      " [  4   0   1   5   1   1   0   0 151   3]\n",
      " [  1   0   0   0   1   0   0   2   1 172]]\n"
     ]
    }
   ],
   "source": [
    "cm_k1= confusion_matrix(test_Y, predictedKnn_1)  \n",
    "print(\"Confusion Matrix for k=1 \\n\",cm_k1)"
   ]
  },
  {
   "cell_type": "code",
   "execution_count": null,
   "metadata": {
    "collapsed": true
   },
   "outputs": [],
   "source": [
    "df_actual_vs_pre[\"predicted_K1\"]=np.array(predictedKnn_1)"
   ]
  },
  {
   "cell_type": "markdown",
   "metadata": {},
   "source": [
    "## Weighted KNN Algorithm"
   ]
  },
  {
   "cell_type": "code",
   "execution_count": 27,
   "metadata": {
    "collapsed": true
   },
   "outputs": [],
   "source": [
    "# sort neighbors in ascending order of distance from test row\n",
    "# Input param : \n",
    "#    train_X - training feature data \n",
    "#    test_row - test data row\n",
    "#    num_neighbors - number of neighbours \n",
    "# returns the list with id of training row and distance value in ascendning order of distance\n",
    "def get_sorted_neighbors(train_X, test_row, num_neighbors):\n",
    "    distances = list()\n",
    "    for idx,train_row in enumerate(train_X):\n",
    "        dist = euclidean_distance(test_row, train_row)\n",
    "        distances.append((idx, dist))\n",
    "    distances.sort(key=lambda tup: tup[1])\n",
    "    return distances"
   ]
  },
  {
   "cell_type": "code",
   "execution_count": 28,
   "metadata": {
    "collapsed": true
   },
   "outputs": [],
   "source": [
    "import operator "
   ]
  },
  {
   "cell_type": "code",
   "execution_count": 29,
   "metadata": {
    "collapsed": false
   },
   "outputs": [],
   "source": [
    "# Locate the most similar neighbors using weighted KNN approach\n",
    "# In weighted KNN higher weight is given to the closer point\n",
    "# the closest neighbours with ascending order of distance are retrived\n",
    "# Only top K distances are considered by looping for k times because we want to find K neighbours \n",
    "# Weights dictionary will have a label as key and corrosponing weight as value\n",
    "# weight is calculated by 1/(distance*distance) (closer point will have higher weight)\n",
    "#  If that label is already present in the dictionary then new weight is added to it \n",
    "# Input param : \n",
    "#    train_X - training feature data \n",
    "#    train_Y - training label data\n",
    "#    test_row - test data row\n",
    "#    num_neighbors - number of neighbours \n",
    "\n",
    "# returns the label which has highest weight\n",
    "\n",
    "def weightedKNN(train_X,train_Y, test_row, num_neighbors):\n",
    "    neighbors = get_sorted_neighbors(train_X, test_row, num_neighbors)\n",
    "\n",
    "    weights=dict()\n",
    "    for idx in range(num_neighbors):\n",
    "        \n",
    "        key=train_Y.iloc[neighbors[idx][0]].values[0]  \n",
    "        distance=neighbors[idx][1]\n",
    "        \n",
    "        if key in weights.keys():\n",
    "            weight=weights[key]\n",
    "            weight+=(1/(distance*distance))\n",
    "            weights[key]=weight\n",
    "        else:\n",
    "            weights[key]=(1/(distance*distance))\n",
    "            \n",
    "    return max(weights.items(), key = operator.itemgetter(1))[0] "
   ]
  },
  {
   "cell_type": "code",
   "execution_count": 30,
   "metadata": {
    "collapsed": true
   },
   "outputs": [],
   "source": [
    "# call to the weightedKNN\n",
    "\n",
    "# This method performs weightedKNN algorithm \n",
    "# Iterate through allthe test data set and pass it to the weightedKNN method\n",
    "# It gets the list of predicted values for all the test data set\n",
    "# Input param : \n",
    "# train_X - training feature data \n",
    "# train_Y - training label data\n",
    "# test_X- test data set\n",
    "# num_neighbors - number of neighbours \n",
    "\n",
    "def Weighted_k_nearest_neighbors(train_X,train_Y, test_X, num_neighbors):\n",
    "    predictions = list()\n",
    "    for row in test_X:\n",
    "        output = weightedKNN(train_X,train_Y, row, num_neighbors)\n",
    "        predictions.append(output)\n",
    "    return(predictions)\n",
    "\n"
   ]
  },
  {
   "cell_type": "code",
   "execution_count": 31,
   "metadata": {
    "collapsed": false
   },
   "outputs": [
    {
     "name": "stdout",
     "output_type": "stream",
     "text": [
      "Training time :  2172.234790086746\n",
      "Accuracy when k=5 : 95.31639262580967\n",
      "Classification report : \n",
      "              precision    recall  f1-score   support\n",
      "\n",
      "          1       0.97      0.99      0.98       359\n",
      "          2       0.99      0.98      0.98       264\n",
      "          3       0.96      0.92      0.94       198\n",
      "          4       0.96      0.91      0.93       166\n",
      "          5       0.93      0.91      0.92       200\n",
      "          6       0.93      0.93      0.93       160\n",
      "          7       0.97      0.98      0.97       170\n",
      "          8       0.95      0.95      0.95       147\n",
      "          9       0.94      0.95      0.94       166\n",
      "         10       0.90      0.98      0.94       177\n",
      "\n",
      "avg / total       0.95      0.95      0.95      2007\n",
      "\n"
     ]
    }
   ],
   "source": [
    "# Call  to the weighted k_nearest_neighbors\n",
    "# value of k =5 \n",
    "trainStart = time.time()\n",
    "\n",
    "weightedKNNPred = Weighted_k_nearest_neighbors(train_X,pd.DataFrame(train_Y), test_X, 5)\n",
    "\n",
    "trainEnd = time.time()\n",
    "\n",
    "print(\"Training time : \", trainEnd-trainStart)\n",
    "df_actual_vs_pre[\"weightedKNNPred\"]=np.array(weightedKNNPred)\n",
    "\n",
    "\n",
    "accuracy = accuracy_metric(test_Y, weightedKNNPred)\n",
    "print('Accuracy when k=5 : %s' % accuracy)\n",
    "\n",
    "\n",
    "\n",
    "classsification_report=classification_report(pd.DataFrame(test_Y), weightedKNNPred)\n",
    "\n",
    "\n",
    "print('Classification report : \\n',classsification_report)\n"
   ]
  },
  {
   "cell_type": "code",
   "execution_count": 61,
   "metadata": {
    "collapsed": false
   },
   "outputs": [
    {
     "name": "stdout",
     "output_type": "stream",
     "text": [
      "Confusion Matrix for weighted KNN : \n",
      " [[355   0   2   0   0   0   0   1   0   1]\n",
      " [  0 258   0   0   3   0   2   1   0   0]\n",
      " [  5   0 183   1   2   0   1   2   4   0]\n",
      " [  1   0   1 151   0   9   0   1   1   2]\n",
      " [  0   2   1   0 182   0   2   2   1  10]\n",
      " [  2   0   1   3   0 148   0   0   2   4]\n",
      " [  1   0   2   0   1   0 166   0   0   0]\n",
      " [  0   0   1   0   5   0   0 140   1   0]\n",
      " [  2   0   0   2   0   2   0   0 157   3]\n",
      " [  1   0   0   0   2   0   0   0   1 173]]\n"
     ]
    }
   ],
   "source": [
    "cm_weightedKNN= confusion_matrix(test_Y, weightedKNNPred)  \n",
    "print(\"Confusion Matrix for weighted KNN : \\n\",cm_weightedKNN)"
   ]
  },
  {
   "cell_type": "code",
   "execution_count": 62,
   "metadata": {
    "collapsed": false
   },
   "outputs": [
    {
     "data": {
      "text/html": [
       "<div>\n",
       "<table border=\"1\" class=\"dataframe\">\n",
       "  <thead>\n",
       "    <tr style=\"text-align: right;\">\n",
       "      <th></th>\n",
       "      <th>0</th>\n",
       "      <th>predicted_K1</th>\n",
       "      <th>weightedKNNPred</th>\n",
       "      <th>predicted_K3</th>\n",
       "      <th>predicted_K5</th>\n",
       "    </tr>\n",
       "  </thead>\n",
       "  <tbody>\n",
       "    <tr>\n",
       "      <th>0</th>\n",
       "      <td>10</td>\n",
       "      <td>10</td>\n",
       "      <td>10</td>\n",
       "      <td>10</td>\n",
       "      <td>10</td>\n",
       "    </tr>\n",
       "    <tr>\n",
       "      <th>1</th>\n",
       "      <td>7</td>\n",
       "      <td>7</td>\n",
       "      <td>7</td>\n",
       "      <td>7</td>\n",
       "      <td>7</td>\n",
       "    </tr>\n",
       "    <tr>\n",
       "      <th>2</th>\n",
       "      <td>4</td>\n",
       "      <td>4</td>\n",
       "      <td>4</td>\n",
       "      <td>4</td>\n",
       "      <td>4</td>\n",
       "    </tr>\n",
       "    <tr>\n",
       "      <th>3</th>\n",
       "      <td>7</td>\n",
       "      <td>7</td>\n",
       "      <td>7</td>\n",
       "      <td>7</td>\n",
       "      <td>7</td>\n",
       "    </tr>\n",
       "    <tr>\n",
       "      <th>4</th>\n",
       "      <td>7</td>\n",
       "      <td>7</td>\n",
       "      <td>7</td>\n",
       "      <td>7</td>\n",
       "      <td>7</td>\n",
       "    </tr>\n",
       "    <tr>\n",
       "      <th>5</th>\n",
       "      <td>1</td>\n",
       "      <td>1</td>\n",
       "      <td>1</td>\n",
       "      <td>1</td>\n",
       "      <td>1</td>\n",
       "    </tr>\n",
       "    <tr>\n",
       "      <th>6</th>\n",
       "      <td>1</td>\n",
       "      <td>1</td>\n",
       "      <td>1</td>\n",
       "      <td>1</td>\n",
       "      <td>1</td>\n",
       "    </tr>\n",
       "    <tr>\n",
       "      <th>7</th>\n",
       "      <td>1</td>\n",
       "      <td>1</td>\n",
       "      <td>1</td>\n",
       "      <td>1</td>\n",
       "      <td>1</td>\n",
       "    </tr>\n",
       "    <tr>\n",
       "      <th>8</th>\n",
       "      <td>7</td>\n",
       "      <td>7</td>\n",
       "      <td>7</td>\n",
       "      <td>7</td>\n",
       "      <td>7</td>\n",
       "    </tr>\n",
       "    <tr>\n",
       "      <th>9</th>\n",
       "      <td>10</td>\n",
       "      <td>10</td>\n",
       "      <td>10</td>\n",
       "      <td>10</td>\n",
       "      <td>10</td>\n",
       "    </tr>\n",
       "    <tr>\n",
       "      <th>10</th>\n",
       "      <td>7</td>\n",
       "      <td>7</td>\n",
       "      <td>7</td>\n",
       "      <td>7</td>\n",
       "      <td>7</td>\n",
       "    </tr>\n",
       "    <tr>\n",
       "      <th>11</th>\n",
       "      <td>3</td>\n",
       "      <td>3</td>\n",
       "      <td>3</td>\n",
       "      <td>3</td>\n",
       "      <td>3</td>\n",
       "    </tr>\n",
       "    <tr>\n",
       "      <th>12</th>\n",
       "      <td>3</td>\n",
       "      <td>3</td>\n",
       "      <td>3</td>\n",
       "      <td>3</td>\n",
       "      <td>3</td>\n",
       "    </tr>\n",
       "    <tr>\n",
       "      <th>13</th>\n",
       "      <td>5</td>\n",
       "      <td>5</td>\n",
       "      <td>5</td>\n",
       "      <td>5</td>\n",
       "      <td>5</td>\n",
       "    </tr>\n",
       "    <tr>\n",
       "      <th>14</th>\n",
       "      <td>1</td>\n",
       "      <td>1</td>\n",
       "      <td>1</td>\n",
       "      <td>1</td>\n",
       "      <td>1</td>\n",
       "    </tr>\n",
       "    <tr>\n",
       "      <th>15</th>\n",
       "      <td>4</td>\n",
       "      <td>4</td>\n",
       "      <td>4</td>\n",
       "      <td>4</td>\n",
       "      <td>4</td>\n",
       "    </tr>\n",
       "    <tr>\n",
       "      <th>16</th>\n",
       "      <td>2</td>\n",
       "      <td>2</td>\n",
       "      <td>2</td>\n",
       "      <td>2</td>\n",
       "      <td>2</td>\n",
       "    </tr>\n",
       "    <tr>\n",
       "      <th>17</th>\n",
       "      <td>7</td>\n",
       "      <td>3</td>\n",
       "      <td>3</td>\n",
       "      <td>3</td>\n",
       "      <td>3</td>\n",
       "    </tr>\n",
       "    <tr>\n",
       "      <th>18</th>\n",
       "      <td>10</td>\n",
       "      <td>10</td>\n",
       "      <td>10</td>\n",
       "      <td>10</td>\n",
       "      <td>10</td>\n",
       "    </tr>\n",
       "    <tr>\n",
       "      <th>19</th>\n",
       "      <td>7</td>\n",
       "      <td>7</td>\n",
       "      <td>7</td>\n",
       "      <td>7</td>\n",
       "      <td>7</td>\n",
       "    </tr>\n",
       "    <tr>\n",
       "      <th>20</th>\n",
       "      <td>3</td>\n",
       "      <td>3</td>\n",
       "      <td>3</td>\n",
       "      <td>3</td>\n",
       "      <td>3</td>\n",
       "    </tr>\n",
       "    <tr>\n",
       "      <th>21</th>\n",
       "      <td>3</td>\n",
       "      <td>3</td>\n",
       "      <td>3</td>\n",
       "      <td>3</td>\n",
       "      <td>3</td>\n",
       "    </tr>\n",
       "    <tr>\n",
       "      <th>22</th>\n",
       "      <td>5</td>\n",
       "      <td>5</td>\n",
       "      <td>5</td>\n",
       "      <td>5</td>\n",
       "      <td>5</td>\n",
       "    </tr>\n",
       "    <tr>\n",
       "      <th>23</th>\n",
       "      <td>10</td>\n",
       "      <td>10</td>\n",
       "      <td>10</td>\n",
       "      <td>10</td>\n",
       "      <td>10</td>\n",
       "    </tr>\n",
       "    <tr>\n",
       "      <th>24</th>\n",
       "      <td>7</td>\n",
       "      <td>7</td>\n",
       "      <td>7</td>\n",
       "      <td>7</td>\n",
       "      <td>7</td>\n",
       "    </tr>\n",
       "    <tr>\n",
       "      <th>25</th>\n",
       "      <td>3</td>\n",
       "      <td>3</td>\n",
       "      <td>3</td>\n",
       "      <td>3</td>\n",
       "      <td>3</td>\n",
       "    </tr>\n",
       "    <tr>\n",
       "      <th>26</th>\n",
       "      <td>1</td>\n",
       "      <td>1</td>\n",
       "      <td>1</td>\n",
       "      <td>1</td>\n",
       "      <td>1</td>\n",
       "    </tr>\n",
       "    <tr>\n",
       "      <th>27</th>\n",
       "      <td>4</td>\n",
       "      <td>6</td>\n",
       "      <td>4</td>\n",
       "      <td>4</td>\n",
       "      <td>4</td>\n",
       "    </tr>\n",
       "    <tr>\n",
       "      <th>28</th>\n",
       "      <td>9</td>\n",
       "      <td>4</td>\n",
       "      <td>9</td>\n",
       "      <td>9</td>\n",
       "      <td>9</td>\n",
       "    </tr>\n",
       "    <tr>\n",
       "      <th>29</th>\n",
       "      <td>4</td>\n",
       "      <td>4</td>\n",
       "      <td>4</td>\n",
       "      <td>4</td>\n",
       "      <td>4</td>\n",
       "    </tr>\n",
       "  </tbody>\n",
       "</table>\n",
       "</div>"
      ],
      "text/plain": [
       "     0  predicted_K1  weightedKNNPred  predicted_K3  predicted_K5\n",
       "0   10            10               10            10            10\n",
       "1    7             7                7             7             7\n",
       "2    4             4                4             4             4\n",
       "3    7             7                7             7             7\n",
       "4    7             7                7             7             7\n",
       "5    1             1                1             1             1\n",
       "6    1             1                1             1             1\n",
       "7    1             1                1             1             1\n",
       "8    7             7                7             7             7\n",
       "9   10            10               10            10            10\n",
       "10   7             7                7             7             7\n",
       "11   3             3                3             3             3\n",
       "12   3             3                3             3             3\n",
       "13   5             5                5             5             5\n",
       "14   1             1                1             1             1\n",
       "15   4             4                4             4             4\n",
       "16   2             2                2             2             2\n",
       "17   7             3                3             3             3\n",
       "18  10            10               10            10            10\n",
       "19   7             7                7             7             7\n",
       "20   3             3                3             3             3\n",
       "21   3             3                3             3             3\n",
       "22   5             5                5             5             5\n",
       "23  10            10               10            10            10\n",
       "24   7             7                7             7             7\n",
       "25   3             3                3             3             3\n",
       "26   1             1                1             1             1\n",
       "27   4             6                4             4             4\n",
       "28   9             4                9             9             9\n",
       "29   4             4                4             4             4"
      ]
     },
     "execution_count": 62,
     "metadata": {},
     "output_type": "execute_result"
    }
   ],
   "source": [
    "df_actual_vs_pre.head(30)"
   ]
  },
  {
   "cell_type": "code",
   "execution_count": null,
   "metadata": {
    "collapsed": true
   },
   "outputs": [],
   "source": []
  }
 ],
 "metadata": {
  "anaconda-cloud": {},
  "kernelspec": {
   "display_name": "Python [default]",
   "language": "python",
   "name": "python3"
  },
  "language_info": {
   "codemirror_mode": {
    "name": "ipython",
    "version": 3
   },
   "file_extension": ".py",
   "mimetype": "text/x-python",
   "name": "python",
   "nbconvert_exporter": "python",
   "pygments_lexer": "ipython3",
   "version": "3.5.2"
  }
 },
 "nbformat": 4,
 "nbformat_minor": 1
}
